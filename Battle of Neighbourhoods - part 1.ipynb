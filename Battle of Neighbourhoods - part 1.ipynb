{
    "nbformat_minor": 1, 
    "cells": [
        {
            "source": "# Capstone project: The Battle of Neighbourhoods\n\n## Introduction/Business Problem\nI am a very enthusiastic traveller and that's why I am planning to focus on comparison of neighbourhoods in Toronto, particularly which part of the city can offer me and other tourists the best opportunities for sightseeing, culture and fun. I did some research, as I usually do before any journey and I was suprised with this fact: on Jan. 1, 1998, Toronto\u2019s amalgamation took effect, merging the six previous municipalities that made up Metro Toronto \u2013 Etobicoke, Scarborough, York, East York, North York, and the City of Toronto, into a new singular City of Toronto. So it will be very interested to figure it out which neighbourhood of Toronto is the most interesting one.\n\nI am convinced this analysis can be very helpful for other tourists or individual who plans to purchase the flat or house in Toronto but perefers the quiet place, without crowds of tourists wondering in the city near interesting places. It should be mentioned that the analysis is built on the information available on Foursquare webpage, that means limited in the content.\n\n## Data Description\nThe data for this project is extracted from the following sources:\n\nNeighbourhoods data \n<br>\ndescription: general information about the Toronto's neighbourhoods \n<br>\nlink: https://en.wikipedia.org/wiki/List_of_postal_codes_of_Canada:_M\n\nGeospace data \n<br>\ndescription: geographical coordinates \n<br>\nlink: http://cocl.us/Geospatial_data\n\nFoursquare API \n<br>\ndescription: service where the user can search and discover information about different types of entertainment, such as coffee shops, restaurants, including the rating and tips. \n<br>\nlink: https://api.foursquare.com", 
            "cell_type": "markdown", 
            "metadata": {
                "collapsed": true
            }
        }, 
        {
            "execution_count": null, 
            "cell_type": "code", 
            "metadata": {}, 
            "outputs": [], 
            "source": ""
        }
    ], 
    "metadata": {
        "kernelspec": {
            "display_name": "Python 3.6", 
            "name": "python3", 
            "language": "python"
        }, 
        "language_info": {
            "mimetype": "text/x-python", 
            "nbconvert_exporter": "python", 
            "version": "3.6.8", 
            "name": "python", 
            "file_extension": ".py", 
            "pygments_lexer": "ipython3", 
            "codemirror_mode": {
                "version": 3, 
                "name": "ipython"
            }
        }
    }, 
    "nbformat": 4
}