{
    "nbformat_minor": 1, 
    "cells": [
        {
            "source": "# Capstone project: The Battle of Neighbourhoods\n\n## Introduction/Business Problem\nI am a very enthusiastic traveller and that's why I am planning to focus on comparison of neighbourhoods in Toronto, particularly which part of the city can offer me and other tourists the best opportunities for sightseeing, culture and fun. I did some research, as I usually do before any journey and I was suprised with this fact: on Jan. 1, 1998, Toronto\u2019s amalgamation took effect, merging the six previous municipalities that made up Metro Toronto \u2013 Etobicoke, Scarborough, York, East York, North York, and the City of Toronto, into a new singular City of Toronto. It seems Toronto has, like any other bug city, a very interesting history, that's why i\n\nThe aim of this project is to focus on Toronto's neighbourhoods in order to find the best part of the city for tourist activities (with respect to Art & Entertainment). The analysis is built on the information available on Foursquare webpage, so I want to highligh it has some limitations in content. \n\n\n## Data Description\nThe data for this project is extracted from the following sources:\n\nToronto's Neighbourhoods data \n<br>\ndescription: general information about the Toronto's neighbourhoods, such as postal code, name. This data set is used to explore various neighborhoods of Toronto.\n<br>\nlink: https://en.wikipedia.org/wiki/List_of_postal_codes_of_Canada:_M\n\nGeospace data \n<br>\ndescription: geographical coordinates. This source provides data for Toronto's borough boundaries. \n<br>\nlink: http://cocl.us/Geospatial_data\n\nFoursquare API \n<br>\ndescription: service where the user can search and discover information about different types of entertainment, such as coffee shops, restaurants, including the rating and tips. It is needed for detailed neighbourhood exploration, based on different criteria. \n<br>\nlink: https://api.foursquare.com", 
            "cell_type": "markdown", 
            "metadata": {
                "collapsed": true
            }
        }, 
        {
            "execution_count": null, 
            "cell_type": "code", 
            "metadata": {}, 
            "outputs": [], 
            "source": ""
        }
    ], 
    "metadata": {
        "kernelspec": {
            "display_name": "Python 3.6", 
            "name": "python3", 
            "language": "python"
        }, 
        "language_info": {
            "mimetype": "text/x-python", 
            "nbconvert_exporter": "python", 
            "version": "3.6.8", 
            "name": "python", 
            "file_extension": ".py", 
            "pygments_lexer": "ipython3", 
            "codemirror_mode": {
                "version": 3, 
                "name": "ipython"
            }
        }
    }, 
    "nbformat": 4
}